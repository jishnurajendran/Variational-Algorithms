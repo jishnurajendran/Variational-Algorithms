{
  "cells": [
    {
      "cell_type": "markdown",
      "metadata": {
        "id": "YTewFkwtujB9"
      },
      "source": [
        "# Number Partitioning using QAOA\n",
        "\n",
        "In this notebook, I solve the **Number Partitioning problem** using the Quantum Approximate Optimization Algorithm (QAOA). The goal of the Number Partitioning problem is to divide a set of numbers into two subsets such that the sums of the numbers in each subset are as close as possible.\n",
        "\n",
        "## Problem\n",
        "Given a set of numbers $S = \\{a_1, a_2, ..., a_n\\}$, the objective is to find a partition of $S$ into two subsets $A$ and $B$ such that the absolute difference between the sums of the numbers in each subset is minimized.  This can be framed as minimizing the cost function:\n",
        "\n",
        "$C = (\\sum_{i \\in A} a_i - \\sum_{i \\in B} a_i)^2$\n",
        "\n",
        "This can be further simplified to:\n",
        "$C = (\\sum_{i=1}^{n} a_i s_i)^2$, where $s_i = 1$ if $a_i \\in A$ and $s_i = -1$ if $a_i \\in B$.\n",
        "\n",
        "In the above definition, we can see the subtle hint of spin-up and spin-down states in the form of $s_i$. More precisely, $\\pm 1$ are the eigenvalues of the Pauli $Z$ operator, and we can use them to represent the spin states. \n",
        "\n",
        "## Algorithm\n",
        "\n",
        "The QAOA algorithm is used to find an approximate solution to this optimization problem. The algorithm involves the following:\n",
        "\n",
        "1.  Define the problem, and prepare the initial state of the qubit system.\n",
        "2.  Construct a Hamiltonian whose ground state corresponds to the optimal partition.\n",
        "3.  Construct a mixing Hamiltonian to explore the solution space.\n",
        "4.  Create a quantum circuit consisting of alternating layers of the Cost and Mixing Hamiltonians.\n",
        "5.  Use a classical optimizer to find the optimal values for the variational parameters in the quantum circuit.\n",
        "6.  Measure the output of the quantum circuit to obtain a candidate solution.\n",
        "7.  Evaluate the quality of the solution and repeat steps 6-7 till we achieve the desired accuracy.\n",
        "\n",
        "### 1. Setup and Dependencies\n",
        "*This code is meant to be run in Google Colab, so make sure to run it in that environment.*\n",
        "   - Checks for the `cirq` library. If not installed, it installs it using `pip`.\n",
        "   - Imports necessary libraries: `cirq`, `sympy`, and `numpy`."
      ]
    },
    {
      "cell_type": "code",
      "execution_count": null,
      "metadata": {
        "id": "oeaSSPS-ZukR"
      },
      "outputs": [],
      "source": [
        "try:\n",
        "    import cirq\n",
        "except ImportError:\n",
        "    print(\"installing cirq...\")\n",
        "    !pip install --quiet cirq\n",
        "    print(\"installed cirq.\")\n",
        "    import cirq\n",
        "import sympy\n",
        "import numpy as np"
      ]
    },
    {
      "cell_type": "markdown",
      "metadata": {},
      "source": [
        "### 2. Define the Problem\n",
        "- Generates a list of random integers (`numbers`) to be partitioned.  The length of the list determines the number of qubits required.\n",
        "\n",
        "### Create Qubits\n",
        "- Creates a list of `cirq.NamedQubit` objects, one for each number in the `numbers` list."
      ]
    },
    {
      "cell_type": "code",
      "execution_count": null,
      "metadata": {
        "id": "SA3CUKGpcLJT"
      },
      "outputs": [],
      "source": [
        "# Here we use Random numbers, but you can replace this with any other set of numbers\n",
        "np.seed(42)\n",
        "numbers = np.random.randint(-10, 100, 6)\n",
        "n_qubits = len(numbers)\n",
        "qubits = [cirq.NamedQubit(f'q{i}') for i in range(n_qubits)]"
      ]
    },
    {
      "cell_type": "markdown",
      "metadata": {},
      "source": [
        "\n",
        "### 3. Build Cost Hamiltonian\n",
        "- The cost Hamiltonian $H_C$ is constructed to penalize unequal partitions.\n",
        "- $H_C = (\\sum a_i Z_i)^2 = \\sum_i a_i^2 I + \\sum_{i \\ne j} a_i a_j Z_i Z_j $\n",
        "- The code calculates the constant term and the ZZ terms.  The `constant_term` does not affect the evolution but contributes to the total energy. The `cost_terms` list stores the ZZ terms, each weighted by $2 * a_i * a_j$.\n"
      ]
    },
    {
      "cell_type": "code",
      "execution_count": null,
      "metadata": {},
      "outputs": [],
      "source": [
        "cost_terms = []\n",
        "\n",
        "\n",
        "constant_term = sum(a*a for a in numbers)  # This adds to the total energy but doesn't affect evolution\n",
        "\n",
        "# Add ZZ terms (i ≠ j): Σ_i,j a_i a_j Z_i Z_j\n",
        "for i in range(n_qubits):\n",
        "    for j in range(i+1, n_qubits):\n",
        "        weight = 2 * numbers[i] * numbers[j]  # Factor of 2 because we're only counting i < j\n",
        "        cost_terms.append(cirq.ZZ(qubits[i], qubits[j]) ** weight)\n"
      ]
    },
    {
      "cell_type": "markdown",
      "metadata": {},
      "source": [
        "Here we have to carefully construct the Hamiltonian to ensure that we are accurately representing the problem.  The Hamiltonian is constructed as a sum of Pauli-Z operators, where each term corresponds to a pair of qubits. The coefficients of the terms are determined by the values of the numbers in the input list.\n",
        "\n",
        "` While the implemented cost Hamiltonian penalizes imbalance, alternative cost functions could be used, e.g., one that promotes solutions with similar cardinality of subsets A and B.  The current implementation only focuses on minimizing the sum difference, regardless of subset size.`\n",
        "\n",
        "### 4. Build Mixing Hamiltonian\n",
        "- The mixing Hamiltonian $H_B$ is a sum of Pauli-X operators applied to each qubit.  It helps to explore the solution space by flipping the qubit states.\n"
      ]
    },
    {
      "cell_type": "code",
      "execution_count": null,
      "metadata": {},
      "outputs": [],
      "source": [
        "# Mixing Hamiltonian: H_B = Σ X_i\n",
        "mixer = [cirq.X(q) for q in qubits]"
      ]
    },
    {
      "cell_type": "markdown",
      "metadata": {},
      "source": [
        "### 5. QAOA Circuit Construction\n",
        "- The QAOA circuit is constructed with alternating layers of the cost and mixing Hamiltonians.\n",
        "- **Initial Superposition:** Applies a Hadamard gate to each qubit to create an equal superposition of all possible states.\n",
        "- **Variational Parameters:** Defines symbolic variables `gamma`($\\gamma$) and `beta`($\\beta$) for the cost and mixing Hamiltonian evolution times, respectively. (Symbolic variables with `sympy` are the cirq way of representing parameters for a quantum circuit.)\n",
        "- **QAOA Layers:** Appends the exponentiated cost and mixing Hamiltonians to the circuit, controlled by the variational parameters.\n",
        "- **Measurement:** Measures all qubits at the end of the circuit."
      ]
    },
    {
      "cell_type": "code",
      "execution_count": null,
      "metadata": {},
      "outputs": [],
      "source": [
        "# QAOA circuit construction\n",
        "circuit = cirq.Circuit()\n",
        "\n",
        "# Initial superposition\n",
        "circuit.append(cirq.H.on_each(qubits))\n",
        "\n",
        "# Variational parameters\n",
        "gamma = sympy.Symbol('γ')\n",
        "beta = sympy.Symbol('β')\n",
        "\n",
        "# Add QAOA layers\n",
        "for term in cost_terms:\n",
        "    circuit.append(term ** gamma)\n",
        "for term in mixer:\n",
        "    circuit.append(term ** beta)\n",
        "\n",
        "# Measurement\n",
        "circuit.append(cirq.measure(*qubits, key='result'))\n",
        "\n",
        "\n"
      ]
    },
    {
      "cell_type": "code",
      "execution_count": null,
      "metadata": {
        "colab": {
          "base_uri": "https://localhost:8080/"
        },
        "id": "9rmKteFDU7FS",
        "outputId": "00fecca6-0dde-4a17-8807-b4d749e51ee4"
      },
      "outputs": [
        {
          "name": "stdout",
          "output_type": "stream",
          "text": [
            "                                           ┌──────────────────────────┐   ┌──────────────────────────┐   ┌───────────────────────────────────────┐   ┌──────────────────────────┐   ┌───────────────────────────┐\n",
            "q0: ───H───ZZ──────────────ZZ───────────────ZZ─────────────────────────────ZZ─────────────────────────────ZZ──────────────────────────────────────────X^(β)─────────────────────────────────────────────────────────────────────────────────────────────────M('result')───\n",
            "           │               │                │                              │                              │                                                                                                                                                 │\n",
            "q1: ───H───ZZ^(1456.0*γ)───┼────────────────┼────────────ZZ────────────────┼────────────ZZ────────────────┼────────────ZZ─────────────────────────────ZZ─────────────────────────────X^(β)──────────────────────────────────────────────────────────────────M─────────────\n",
            "                           │                │            │                 │            │                 │            │                              │                                                                                                     │\n",
            "q2: ───H───────────────────ZZ^(1768.0*γ)────┼────────────ZZ^(1904.0*γ)─────┼────────────┼─────────────────┼────────────┼────────────ZZ────────────────┼────────────ZZ────────────────ZZ─────────────────────────────X^(β)───────────────────────────────────M─────────────\n",
            "                                            │                              │            │                 │            │            │                 │            │                 │                                                                      │\n",
            "q3: ───H────────────────────────────────────ZZ^(3588.0*γ)──────────────────┼────────────ZZ^(3864.0*γ)─────┼────────────┼────────────ZZ^(4692.0*γ)─────┼────────────┼─────────────────┼────────────ZZ────────────────ZZ──────────────X^(β)───────────────────M─────────────\n",
            "                                                                           │                              │            │                              │            │                 │            │                 │                                       │\n",
            "q4: ───H───────────────────────────────────────────────────────────────────ZZ^(4212.0*γ)──────────────────┼────────────ZZ^(4536.0*γ)──────────────────┼────────────ZZ^(5508.0*γ)─────┼────────────ZZ^(11178.0*γ)────┼───────────────ZZ──────────────X^(β)───M─────────────\n",
            "                                                                                                          │                                           │                              │                              │               │                       │\n",
            "q5: ───H──────────────────────────────────────────────────────────────────────────────────────────────────ZZ^(1144.0*γ)───────────────────────────────ZZ^(1232.0*γ)──────────────────ZZ^(1496.0*γ)──────────────────ZZ^(3036.0*γ)───ZZ^(3564.0*γ)───X^(β)───M─────────────\n",
            "                                           └──────────────────────────┘   └──────────────────────────┘   └───────────────────────────────────────┘   └──────────────────────────┘   └───────────────────────────┘\n"
          ]
        }
      ],
      "source": [
        "print(circuit)"
      ]
    },
    {
      "cell_type": "markdown",
      "metadata": {},
      "source": [
        "Here I used a shallow QAOA circuit (one layer). In this problem a single layer is sufficient to find a good approximate solution. In general, the number of layers can be increased to improve the solution quality but at the cost of increased circuit complexity and longer optimization times. \n",
        "\n",
        "The number of layers is a hyperparameter that can be tuned based on the problem size and complexity.\n",
        "\n",
        "***Improvment:*** Adaptive QAOA strategies could be employed to optimize the number of layers dynamically based on the problem characteristics.\n",
        "\n",
        "### 6. Optimization Setup\n",
        "- Sets up the optimization process using `cirq.Simulator()` and `scipy.optimize.minimize()`.\n",
        "- **Energy Calculation:** The `energy_from_measurements` function calculates the cost (energy) of a given set of measurements (bitstrings).  It computes $(\\sum a_i s_i)^2$ for each bitstring and returns the mean across all bitstrings.\n",
        "- **Objective Function:** The `objective` function takes the variational parameters (`gamma` and `beta`) as input, using them in the circuit, runs the simulation, and returns the energy.\n",
        "- **Optimization:** The `scipy.optimize.minimize` function is used to find the optimal values for `gamma` and `beta` that minimize the energy. Here I used COBYLA method optimization."
      ]
    },
    {
      "cell_type": "code",
      "execution_count": null,
      "metadata": {
        "id": "jgxos7LYcPhy"
      },
      "outputs": [],
      "source": [
        "# Example optimization setup\n",
        "simulator = cirq.Simulator()\n",
        "params = [gamma, beta]\n",
        "\n",
        "def energy_from_measurements(measurements):\n",
        "    # Calculate (Σ a_i z_i)^2 from bitstrings\n",
        "    return np.mean([(sum(numbers[i]*(-1)**b for i, b in enumerate(bs)))**2\n",
        "                    for bs in measurements])\n",
        "\n",
        "def objective(params):\n",
        "    resolved = cirq.ParamResolver({'γ': params[0], 'β': params[1]})\n",
        "    result = simulator.run(circuit, resolved, repetitions=500)\n",
        "    return energy_from_measurements(result.measurements['result'])\n"
      ]
    },
    {
      "cell_type": "code",
      "execution_count": null,
      "metadata": {
        "colab": {
          "base_uri": "https://localhost:8080/"
        },
        "id": "IqrWVYezcSH7",
        "outputId": "b9ef3f89-23f1-43ab-9c81-b302bcb01968"
      },
      "outputs": [
        {
          "name": "stdout",
          "output_type": "stream",
          "text": [
            "Optimal parameters: [ 2.19935745 -0.17078835]\n"
          ]
        }
      ],
      "source": [
        "from scipy.optimize import minimize\n",
        "\n",
        "initial = np.random.uniform(0, np.pi/2, 2)\n",
        "result = minimize(objective, initial, method='COBYLA')\n",
        "print(\"Optimal parameters:\", result.x)\n"
      ]
    },
    {
      "cell_type": "markdown",
      "metadata": {},
      "source": [
        "### 7. Final Result and Analysis\n",
        "- Runs the circuit with the optimized parameters to obtain the final result.\n",
        "- The `bitstring_to_partition` function converts a bitstring to a partition, where 0 represents +1 (subset A) and 1 represents -1 (subset B).\n",
        "- The `compute_cost` function calculates the cost of a given partition.\n",
        "- The code iterates through the measurement results, converts each bitstring to a partition, computes the cost, and counts the frequency of each partition.\n",
        "- Finally, it identifies the optimal partitions (those with the minimum cost) and prints them along with their frequencies, the elements that belong to each partition and the difference between their sums, using the `tabulate` library for better readability."
      ]
    },
    {
      "cell_type": "code",
      "execution_count": null,
      "metadata": {
        "id": "ynlDTNTAcUiX"
      },
      "outputs": [],
      "source": [
        "best_params = result.x\n",
        "final_result = simulator.run(\n",
        "    circuit,\n",
        "    cirq.ParamResolver({'γ': best_params[0], 'β': best_params[1]}),\n",
        "    repetitions=1000\n",
        ")\n"
      ]
    },
    {
      "cell_type": "code",
      "execution_count": null,
      "metadata": {
        "colab": {
          "base_uri": "https://localhost:8080/"
        },
        "id": "xcGcxMSOtQy5",
        "outputId": "bbfdc505-d49b-45cc-ec9c-9f002a36b74d"
      },
      "outputs": [
        {
          "name": "stdout",
          "output_type": "stream",
          "text": [
            "+-----------------------+-------------------+--------------------+------------------+-------------+\n",
            "| Partition             | First Partition   | Second Partition   |   Sum Difference |   Frequency |\n",
            "+=======================+===================+====================+==================+=============+\n",
            "| (-1, 1, 1, 1, -1, -1) | [28, 34, 69]      | [26, 81, 22]       |                2 |          29 |\n",
            "+-----------------------+-------------------+--------------------+------------------+-------------+\n",
            "| (1, -1, 1, 1, -1, -1) | [26, 34, 69]      | [28, 81, 22]       |               -2 |           7 |\n",
            "+-----------------------+-------------------+--------------------+------------------+-------------+\n",
            "| (-1, 1, -1, -1, 1, 1) | [28, 81, 22]      | [26, 34, 69]       |                2 |           3 |\n",
            "+-----------------------+-------------------+--------------------+------------------+-------------+\n",
            "| (1, -1, -1, -1, 1, 1) | [26, 81, 22]      | [28, 34, 69]       |               -2 |          19 |\n",
            "+-----------------------+-------------------+--------------------+------------------+-------------+\n"
          ]
        }
      ],
      "source": [
        "import collections\n",
        "\n",
        "\n",
        "measurements = final_result.measurements['result']\n",
        "n_qubits = len(numbers)\n",
        "\n",
        "def bitstring_to_partition(bits):\n",
        "    \"\"\"\n",
        "    Convention: 0 -> +1 (Subset A), 1 -> -1 (Subset B)\n",
        "    \"\"\"\n",
        "    return [1 if bit == 0 else -1 for bit in bits]\n",
        "\n",
        "def compute_cost(spin_assignment):\n",
        "    \"\"\"\n",
        "    Computes the cost as the square of the imbalance.\n",
        "    Imbalance S is given by sum(a_i * spin_i).\n",
        "    \"\"\"\n",
        "    S = sum(a * spin for a, spin in zip(numbers, spin_assignment))\n",
        "    return S * S\n",
        "\n",
        "# Flatten the array to a list of bitstrings (each is a 1D array)\n",
        "bitstring_list = [measurement for measurement in measurements]\n",
        "\n",
        "# Dictionary to count frequency of each unique partition outcome and store its cost.\n",
        "partition_costs = {}\n",
        "for bits in bitstring_list:\n",
        "    # Convert the bitstring into a tuple for dictionary keys.\n",
        "    partition = tuple(bitstring_to_partition(bits))\n",
        "    cost = compute_cost(partition)\n",
        "    if partition in partition_costs:\n",
        "        partition_costs[partition]['count'] += 1\n",
        "    else:\n",
        "        partition_costs[partition] = {'cost': cost, 'count': 1}\n",
        "\n",
        "# Determine the partition(s) with the minimal cost.\n",
        "min_cost = min(info['cost'] for info in partition_costs.values())\n",
        "optimal_partitions = [p for p, info in partition_costs.items() if info['cost'] == min_cost]\n",
        "\n",
        "try:\n",
        "    from tabulate import tabulate\n",
        "except ImportError:\n",
        "    !pip install tabulate\n",
        "    from tabulate import tabulate\n",
        "\n",
        "# print(\"Minimum imbalance (cost):\", min_cost)\n",
        "# print(\"Optimal partition(s) and corresponding frequencies:\")\n",
        "# print(numbers)\n",
        "# for partition in optimal_partitions:\n",
        "#     sub_a = [numbers[i] for i in range(n_qubits) if partition[i] == 1]\n",
        "#     sub_b = [numbers[i] for i in range(n_qubits) if partition[i] == -1]\n",
        "#     print(\"Partition:\", partition,\n",
        "#           \"First Partition\", sub_a,\n",
        "#           \"Second Partition\", sub_b,\n",
        "#           \"Sum Difference\", sum(sub_a) - sum(sub_b),\n",
        "#           \"Frequency:\", partition_costs[partition]['count'])\n",
        "\n",
        "table_data = []\n",
        "for partition in optimal_partitions:\n",
        "    sub_a = [numbers[i] for i in range(n_qubits) if partition[i] == 1]\n",
        "    sub_b = [numbers[i] for i in range(n_qubits) if partition[i] == -1]\n",
        "    table_data.append([partition, sub_a, sub_b, sum(sub_a) - sum(sub_b), partition_costs[partition]['count']])\n",
        "\n",
        "headers = [\"Partition\", \"First Partition\", \"Second Partition\", \"Sum Difference\", \"Frequency\"]\n",
        "print(tabulate(table_data, headers=headers, tablefmt=\"grid\"))\n"
      ]
    },
    {
      "cell_type": "markdown",
      "metadata": {},
      "source": [
        "### We have some assumptions\n",
        "\n",
        "The optimal partitions obtained from the QAOA simulation are good approximations of the true optimal partitions. Since QAOA is a variational algorithm, it may not always find the exact optimal solution, especially for larger problem sizes. However, it can provide near-optimal solutions in a reasonable amount of time for the near-term quantum computers.\n",
        "\n",
        "### Improvements\n",
        "- Deeper circuits can potentially lead to better solutions.\n",
        "- Techniques such as variational quantum eigensolver (VQE) could be used to improve the accuracy of the results.\n",
        "- Here I considered a list of numbers with only 6 elements. The code can be easily modified to handle larger lists, but the optimization time will increase significantly.  For larger lists, we can use more advanced techniques such as QAOA with adaptive depth or hybrid quantum-classical algorithms to improve the performance."
      ]
    },
    {
      "cell_type": "markdown",
      "metadata": {},
      "source": []
    }
  ],
  "metadata": {
    "colab": {
      "provenance": []
    },
    "kernelspec": {
      "display_name": "Python 3",
      "name": "python3"
    },
    "language_info": {
      "name": "python"
    }
  },
  "nbformat": 4,
  "nbformat_minor": 0
}
