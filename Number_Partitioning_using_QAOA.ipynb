{
  "nbformat": 4,
  "nbformat_minor": 0,
  "metadata": {
    "colab": {
      "provenance": []
    },
    "kernelspec": {
      "name": "python3",
      "display_name": "Python 3"
    },
    "language_info": {
      "name": "python"
    }
  },
  "cells": [
    {
      "cell_type": "markdown",
      "source": [
        "# Run this code in Google Colab\n",
        "\n",
        "\n"
      ],
      "metadata": {
        "id": "YTewFkwtujB9"
      }
    },
    {
      "cell_type": "code",
      "source": [
        "try:\n",
        "    import cirq\n",
        "except ImportError:\n",
        "    print(\"installing cirq...\")\n",
        "    !pip install --quiet cirq\n",
        "    print(\"installed cirq.\")\n",
        "    import cirq\n"
      ],
      "metadata": {
        "id": "oeaSSPS-ZukR"
      },
      "execution_count": null,
      "outputs": []
    },
    {
      "cell_type": "code",
      "source": [
        "import cirq\n",
        "import sympy\n",
        "import numpy as np\n",
        "\n",
        "# Define numbers to partition\n",
        "numbers = np.random.randint(-10, 100, 6)\n",
        "n_qubits = len(numbers)\n",
        "\n",
        "# Create qubits\n",
        "qubits = [cirq.NamedQubit(f'q{i}') for i in range(n_qubits)]\n",
        "\n",
        "# Build Cost Hamiltonian: H_C = (Σ a_i Z_i)² = Σ_i a_i² I + Σ_i,j a_i a_j Z_i Z_j (i < j)\n",
        "cost_terms = []\n",
        "\n",
        "# Add diagonal terms (i = j): Σ_i a_i² I\n",
        "constant_term = sum(a*a for a in numbers)  # This adds to the total energy but doesn't affect evolution\n",
        "\n",
        "# Add ZZ terms (i ≠ j): Σ_i,j a_i a_j Z_i Z_j\n",
        "for i in range(n_qubits):\n",
        "    for j in range(i+1, n_qubits):\n",
        "        weight = 2 * numbers[i] * numbers[j]  # Factor of 2 because we're only counting i < j\n",
        "        cost_terms.append(cirq.ZZ(qubits[i], qubits[j]) ** weight)\n",
        "\n",
        "# Mixing Hamiltonian: H_B = Σ X_i\n",
        "mixer = [cirq.X(q) for q in qubits]\n",
        "\n",
        "# QAOA circuit construction\n",
        "circuit = cirq.Circuit()\n",
        "\n",
        "# Initial superposition\n",
        "circuit.append(cirq.H.on_each(qubits))\n",
        "\n",
        "# Variational parameters\n",
        "gamma = sympy.Symbol('γ')\n",
        "beta = sympy.Symbol('β')\n",
        "\n",
        "# Add QAOA layers\n",
        "for term in cost_terms:\n",
        "    circuit.append(term ** gamma)\n",
        "for term in mixer:\n",
        "    circuit.append(term ** beta)\n",
        "\n",
        "# Measurement\n",
        "circuit.append(cirq.measure(*qubits, key='result'))\n",
        "\n",
        "\n"
      ],
      "metadata": {
        "id": "SA3CUKGpcLJT"
      },
      "execution_count": null,
      "outputs": []
    },
    {
      "cell_type": "code",
      "source": [
        "cost_terms"
      ],
      "metadata": {
        "id": "OjbUQXuTb8yU",
        "outputId": "444fec88-764f-4a39-9a94-bdcad62441c0",
        "colab": {
          "base_uri": "https://localhost:8080/"
        }
      },
      "execution_count": null,
      "outputs": [
        {
          "output_type": "execute_result",
          "data": {
            "text/plain": [
              "[(cirq.ZZ**1456.0).on(cirq.NamedQubit('q0'), cirq.NamedQubit('q1')),\n",
              " (cirq.ZZ**1768.0).on(cirq.NamedQubit('q0'), cirq.NamedQubit('q2')),\n",
              " (cirq.ZZ**3588.0).on(cirq.NamedQubit('q0'), cirq.NamedQubit('q3')),\n",
              " (cirq.ZZ**4212.0).on(cirq.NamedQubit('q0'), cirq.NamedQubit('q4')),\n",
              " (cirq.ZZ**1144.0).on(cirq.NamedQubit('q0'), cirq.NamedQubit('q5')),\n",
              " (cirq.ZZ**1904.0).on(cirq.NamedQubit('q1'), cirq.NamedQubit('q2')),\n",
              " (cirq.ZZ**3864.0).on(cirq.NamedQubit('q1'), cirq.NamedQubit('q3')),\n",
              " (cirq.ZZ**4536.0).on(cirq.NamedQubit('q1'), cirq.NamedQubit('q4')),\n",
              " (cirq.ZZ**1232.0).on(cirq.NamedQubit('q1'), cirq.NamedQubit('q5')),\n",
              " (cirq.ZZ**4692.0).on(cirq.NamedQubit('q2'), cirq.NamedQubit('q3')),\n",
              " (cirq.ZZ**5508.0).on(cirq.NamedQubit('q2'), cirq.NamedQubit('q4')),\n",
              " (cirq.ZZ**1496.0).on(cirq.NamedQubit('q2'), cirq.NamedQubit('q5')),\n",
              " (cirq.ZZ**11178.0).on(cirq.NamedQubit('q3'), cirq.NamedQubit('q4')),\n",
              " (cirq.ZZ**3036.0).on(cirq.NamedQubit('q3'), cirq.NamedQubit('q5')),\n",
              " (cirq.ZZ**3564.0).on(cirq.NamedQubit('q4'), cirq.NamedQubit('q5'))]"
            ]
          },
          "metadata": {},
          "execution_count": 84
        }
      ]
    },
    {
      "cell_type": "code",
      "source": [
        "print(circuit)"
      ],
      "metadata": {
        "colab": {
          "base_uri": "https://localhost:8080/"
        },
        "id": "9rmKteFDU7FS",
        "outputId": "00fecca6-0dde-4a17-8807-b4d749e51ee4"
      },
      "execution_count": null,
      "outputs": [
        {
          "output_type": "stream",
          "name": "stdout",
          "text": [
            "                                           ┌──────────────────────────┐   ┌──────────────────────────┐   ┌───────────────────────────────────────┐   ┌──────────────────────────┐   ┌───────────────────────────┐\n",
            "q0: ───H───ZZ──────────────ZZ───────────────ZZ─────────────────────────────ZZ─────────────────────────────ZZ──────────────────────────────────────────X^(β)─────────────────────────────────────────────────────────────────────────────────────────────────M('result')───\n",
            "           │               │                │                              │                              │                                                                                                                                                 │\n",
            "q1: ───H───ZZ^(1456.0*γ)───┼────────────────┼────────────ZZ────────────────┼────────────ZZ────────────────┼────────────ZZ─────────────────────────────ZZ─────────────────────────────X^(β)──────────────────────────────────────────────────────────────────M─────────────\n",
            "                           │                │            │                 │            │                 │            │                              │                                                                                                     │\n",
            "q2: ───H───────────────────ZZ^(1768.0*γ)────┼────────────ZZ^(1904.0*γ)─────┼────────────┼─────────────────┼────────────┼────────────ZZ────────────────┼────────────ZZ────────────────ZZ─────────────────────────────X^(β)───────────────────────────────────M─────────────\n",
            "                                            │                              │            │                 │            │            │                 │            │                 │                                                                      │\n",
            "q3: ───H────────────────────────────────────ZZ^(3588.0*γ)──────────────────┼────────────ZZ^(3864.0*γ)─────┼────────────┼────────────ZZ^(4692.0*γ)─────┼────────────┼─────────────────┼────────────ZZ────────────────ZZ──────────────X^(β)───────────────────M─────────────\n",
            "                                                                           │                              │            │                              │            │                 │            │                 │                                       │\n",
            "q4: ───H───────────────────────────────────────────────────────────────────ZZ^(4212.0*γ)──────────────────┼────────────ZZ^(4536.0*γ)──────────────────┼────────────ZZ^(5508.0*γ)─────┼────────────ZZ^(11178.0*γ)────┼───────────────ZZ──────────────X^(β)───M─────────────\n",
            "                                                                                                          │                                           │                              │                              │               │                       │\n",
            "q5: ───H──────────────────────────────────────────────────────────────────────────────────────────────────ZZ^(1144.0*γ)───────────────────────────────ZZ^(1232.0*γ)──────────────────ZZ^(1496.0*γ)──────────────────ZZ^(3036.0*γ)───ZZ^(3564.0*γ)───X^(β)───M─────────────\n",
            "                                           └──────────────────────────┘   └──────────────────────────┘   └───────────────────────────────────────┘   └──────────────────────────┘   └───────────────────────────┘\n"
          ]
        }
      ]
    },
    {
      "cell_type": "code",
      "source": [
        "# Example optimization setup\n",
        "simulator = cirq.Simulator()\n",
        "params = [gamma, beta]\n",
        "\n",
        "def energy_from_measurements(measurements):\n",
        "    # Calculate (Σ a_i z_i)^2 from bitstrings\n",
        "    return np.mean([(sum(numbers[i]*(-1)**b for i, b in enumerate(bs)))**2\n",
        "                    for bs in measurements])\n",
        "\n",
        "def objective(params):\n",
        "    resolved = cirq.ParamResolver({'γ': params[0], 'β': params[1]})\n",
        "    result = simulator.run(circuit, resolved, repetitions=500)\n",
        "    return energy_from_measurements(result.measurements['result'])\n"
      ],
      "metadata": {
        "id": "jgxos7LYcPhy"
      },
      "execution_count": null,
      "outputs": []
    },
    {
      "cell_type": "code",
      "source": [
        "from scipy.optimize import minimize\n",
        "\n",
        "initial = np.random.uniform(0, np.pi/2, 2)\n",
        "result = minimize(objective, initial, method='COBYLA')\n",
        "print(\"Optimal parameters:\", result.x)\n"
      ],
      "metadata": {
        "id": "IqrWVYezcSH7",
        "outputId": "b9ef3f89-23f1-43ab-9c81-b302bcb01968",
        "colab": {
          "base_uri": "https://localhost:8080/"
        }
      },
      "execution_count": null,
      "outputs": [
        {
          "output_type": "stream",
          "name": "stdout",
          "text": [
            "Optimal parameters: [ 2.19935745 -0.17078835]\n"
          ]
        }
      ]
    },
    {
      "cell_type": "code",
      "source": [
        "best_params = result.x\n",
        "final_result = simulator.run(\n",
        "    circuit,\n",
        "    cirq.ParamResolver({'γ': best_params[0], 'β': best_params[1]}),\n",
        "    repetitions=1000\n",
        ")\n"
      ],
      "metadata": {
        "id": "ynlDTNTAcUiX"
      },
      "execution_count": null,
      "outputs": []
    },
    {
      "cell_type": "code",
      "source": [
        "import numpy as np\n",
        "import collections\n",
        "\n",
        "# Assume `final_result` is obtained from running the circuit with optimized parameters:\n",
        "# final_result = simulator.run(circuit, cirq.ParamResolver({'γ': best_params[0], 'β': best_params[1]}), repetitions=1000)\n",
        "# And `numbers` is the list defined earlier, e.g., numbers = [3, 1, 4, 2, 2]\n",
        "measurements = final_result.measurements['result']\n",
        "n_qubits = len(numbers)\n",
        "\n",
        "def bitstring_to_partition(bits):\n",
        "    \"\"\"\n",
        "    Convention: 0 -> +1 (Subset A), 1 -> -1 (Subset B)\n",
        "    \"\"\"\n",
        "    return [1 if bit == 0 else -1 for bit in bits]\n",
        "\n",
        "def compute_cost(spin_assignment):\n",
        "    \"\"\"\n",
        "    Computes the cost as the square of the imbalance.\n",
        "    Imbalance S is given by sum(a_i * spin_i).\n",
        "    \"\"\"\n",
        "    S = sum(a * spin for a, spin in zip(numbers, spin_assignment))\n",
        "    return S * S\n",
        "\n",
        "# Flatten the array to a list of bitstrings (each is a 1D array)\n",
        "bitstring_list = [measurement for measurement in measurements]\n",
        "\n",
        "# Dictionary to count frequency of each unique partition outcome and store its cost.\n",
        "partition_costs = {}\n",
        "for bits in bitstring_list:\n",
        "    # Convert the bitstring into a tuple for dictionary keys.\n",
        "    partition = tuple(bitstring_to_partition(bits))\n",
        "    cost = compute_cost(partition)\n",
        "    if partition in partition_costs:\n",
        "        partition_costs[partition]['count'] += 1\n",
        "    else:\n",
        "        partition_costs[partition] = {'cost': cost, 'count': 1}\n",
        "\n",
        "# Determine the partition(s) with the minimal cost.\n",
        "min_cost = min(info['cost'] for info in partition_costs.values())\n",
        "optimal_partitions = [p for p, info in partition_costs.items() if info['cost'] == min_cost]\n",
        "\n",
        "try:\n",
        "    from tabulate import tabulate\n",
        "except ImportError:\n",
        "    !pip install tabulate\n",
        "    from tabulate import tabulate\n",
        "\n",
        "# print(\"Minimum imbalance (cost):\", min_cost)\n",
        "# print(\"Optimal partition(s) and corresponding frequencies:\")\n",
        "# print(numbers)\n",
        "# for partition in optimal_partitions:\n",
        "#     sub_a = [numbers[i] for i in range(n_qubits) if partition[i] == 1]\n",
        "#     sub_b = [numbers[i] for i in range(n_qubits) if partition[i] == -1]\n",
        "#     print(\"Partition:\", partition,\n",
        "#           \"First Partition\", sub_a,\n",
        "#           \"Second Partition\", sub_b,\n",
        "#           \"Sum Difference\", sum(sub_a) - sum(sub_b),\n",
        "#           \"Frequency:\", partition_costs[partition]['count'])\n",
        "\n",
        "table_data = []\n",
        "for partition in optimal_partitions:\n",
        "    sub_a = [numbers[i] for i in range(n_qubits) if partition[i] == 1]\n",
        "    sub_b = [numbers[i] for i in range(n_qubits) if partition[i] == -1]\n",
        "    table_data.append([partition, sub_a, sub_b, sum(sub_a) - sum(sub_b), partition_costs[partition]['count']])\n",
        "\n",
        "headers = [\"Partition\", \"First Partition\", \"Second Partition\", \"Sum Difference\", \"Frequency\"]\n",
        "print(tabulate(table_data, headers=headers, tablefmt=\"grid\"))\n"
      ],
      "metadata": {
        "colab": {
          "base_uri": "https://localhost:8080/"
        },
        "id": "xcGcxMSOtQy5",
        "outputId": "bbfdc505-d49b-45cc-ec9c-9f002a36b74d"
      },
      "execution_count": null,
      "outputs": [
        {
          "output_type": "stream",
          "name": "stdout",
          "text": [
            "+-----------------------+-------------------+--------------------+------------------+-------------+\n",
            "| Partition             | First Partition   | Second Partition   |   Sum Difference |   Frequency |\n",
            "+=======================+===================+====================+==================+=============+\n",
            "| (-1, 1, 1, 1, -1, -1) | [28, 34, 69]      | [26, 81, 22]       |                2 |          29 |\n",
            "+-----------------------+-------------------+--------------------+------------------+-------------+\n",
            "| (1, -1, 1, 1, -1, -1) | [26, 34, 69]      | [28, 81, 22]       |               -2 |           7 |\n",
            "+-----------------------+-------------------+--------------------+------------------+-------------+\n",
            "| (-1, 1, -1, -1, 1, 1) | [28, 81, 22]      | [26, 34, 69]       |                2 |           3 |\n",
            "+-----------------------+-------------------+--------------------+------------------+-------------+\n",
            "| (1, -1, -1, -1, 1, 1) | [26, 81, 22]      | [28, 34, 69]       |               -2 |          19 |\n",
            "+-----------------------+-------------------+--------------------+------------------+-------------+\n"
          ]
        }
      ]
    },
    {
      "source": [
        "final_result.measurements"
      ],
      "cell_type": "code",
      "metadata": {
        "colab": {
          "base_uri": "https://localhost:8080/"
        },
        "id": "iOHvN7HBXjHq",
        "outputId": "ac2d3e66-a2c5-495c-8a19-f96c17e3f554"
      },
      "execution_count": null,
      "outputs": [
        {
          "output_type": "execute_result",
          "data": {
            "text/plain": [
              "{'result': array([[1, 0, 0, 1, 0, 1],\n",
              "        [1, 0, 0, 0, 1, 1],\n",
              "        [1, 0, 0, 0, 1, 0],\n",
              "        ...,\n",
              "        [0, 0, 1, 1, 1, 0],\n",
              "        [1, 0, 0, 0, 0, 0],\n",
              "        [1, 0, 0, 0, 1, 1]], dtype=int8)}"
            ]
          },
          "metadata": {},
          "execution_count": 90
        }
      ]
    },
    {
      "cell_type": "code",
      "source": [
        "try:\n",
        "    import qiskit as qk\n",
        "except ImportError:\n",
        "    print(\"installing qiskit and related\")\n",
        "    !pip install --quiet qiskit qiskit-algorithms qiskit-aer\n",
        "    print(\"installed qiskit.\")\n"
      ],
      "metadata": {
        "colab": {
          "base_uri": "https://localhost:8080/"
        },
        "id": "xCIuyV2twdG_",
        "outputId": "ecbe0468-f67e-4bf5-f82c-ddd6e25b732f"
      },
      "execution_count": null,
      "outputs": [
        {
          "output_type": "stream",
          "name": "stdout",
          "text": [
            "installing qiskit and related\n",
            "\u001b[2K   \u001b[90m━━━━━━━━━━━━━━━━━━━━━━━━━━━━━━━━━━━━━━━━\u001b[0m \u001b[32m6.7/6.7 MB\u001b[0m \u001b[31m49.5 MB/s\u001b[0m eta \u001b[36m0:00:00\u001b[0m\n",
            "\u001b[2K   \u001b[90m━━━━━━━━━━━━━━━━━━━━━━━━━━━━━━━━━━━━━━━━\u001b[0m \u001b[32m310.5/310.5 kB\u001b[0m \u001b[31m18.2 MB/s\u001b[0m eta \u001b[36m0:00:00\u001b[0m\n",
            "\u001b[2K   \u001b[90m━━━━━━━━━━━━━━━━━━━━━━━━━━━━━━━━━━━━━━━━\u001b[0m \u001b[32m12.4/12.4 MB\u001b[0m \u001b[31m86.7 MB/s\u001b[0m eta \u001b[36m0:00:00\u001b[0m\n",
            "\u001b[2K   \u001b[90m━━━━━━━━━━━━━━━━━━━━━━━━━━━━━━━━━━━━━━━━\u001b[0m \u001b[32m119.4/119.4 kB\u001b[0m \u001b[31m7.6 MB/s\u001b[0m eta \u001b[36m0:00:00\u001b[0m\n",
            "\u001b[2K   \u001b[90m━━━━━━━━━━━━━━━━━━━━━━━━━━━━━━━━━━━━━━━━\u001b[0m \u001b[32m2.1/2.1 MB\u001b[0m \u001b[31m60.3 MB/s\u001b[0m eta \u001b[36m0:00:00\u001b[0m\n",
            "\u001b[2K   \u001b[90m━━━━━━━━━━━━━━━━━━━━━━━━━━━━━━━━━━━━━━━━\u001b[0m \u001b[32m49.5/49.5 kB\u001b[0m \u001b[31m3.2 MB/s\u001b[0m eta \u001b[36m0:00:00\u001b[0m\n",
            "\u001b[2K   \u001b[90m━━━━━━━━━━━━━━━━━━━━━━━━━━━━━━━━━━━━━━━━\u001b[0m \u001b[32m49.7/49.7 MB\u001b[0m \u001b[31m20.6 MB/s\u001b[0m eta \u001b[36m0:00:00\u001b[0m\n",
            "\u001b[2K   \u001b[90m━━━━━━━━━━━━━━━━━━━━━━━━━━━━━━━━━━━━━━━━\u001b[0m \u001b[32m109.0/109.0 kB\u001b[0m \u001b[31m7.0 MB/s\u001b[0m eta \u001b[36m0:00:00\u001b[0m\n",
            "\u001b[?25hinstalled qiskit.\n"
          ]
        }
      ]
    },
    {
      "cell_type": "code",
      "source": [
        "from qiskit import QuantumCircuit\n",
        "from qiskit_aer import Aer\n",
        "from qiskit_algorithms import QAOA\n",
        "from qiskit_algorithms.optimizers import COBYLA\n",
        "from qiskit.quantum_info import Pauli, SparsePauliOp\n",
        "from qiskit.primitives import Sampler\n",
        "import numpy as np\n",
        "\n",
        "class NumberPartitionQAOA:\n",
        "    def __init__(self, numbers):\n",
        "        self.numbers = numbers\n",
        "        self.n_qubits = len(numbers)\n",
        "        self.qubit_op = self._create_cost_operator()\n",
        "\n",
        "    def _create_cost_operator(self):\n",
        "        \"\"\"Creates the cost Hamiltonian for number partitioning\"\"\"\n",
        "        pauli_list = []\n",
        "\n",
        "        # Create ZZ terms for all pairs of qubits\n",
        "        for i in range(self.n_qubits):\n",
        "            for j in range(i+1, self.n_qubits):\n",
        "                # Coefficient is 2*a_i*a_j for i≠j terms\n",
        "                coeff = 2.0 * self.numbers[i] * self.numbers[j]\n",
        "\n",
        "                # Create Pauli string with Z's at positions i and j\n",
        "                pauli_str = ['I'] * self.n_qubits\n",
        "                pauli_str[i] = 'Z'\n",
        "                pauli_str[j] = 'Z'\n",
        "                pauli_list.append((coeff, ''.join(pauli_str)))\n",
        "\n",
        "        # Convert to SparsePauliOp\n",
        "        op_list = [(coeff, Pauli(pauli)) for coeff, pauli in pauli_list]\n",
        "        return SparsePauliOp.from_list(op_list)\n",
        "\n",
        "    def solve(self, reps=1, optimizer_maxiter=100):\n",
        "        \"\"\"Solve using QAOA\"\"\"\n",
        "        # Initialize the optimizer\n",
        "        optimizer = COBYLA(maxiter=optimizer_maxiter)\n",
        "\n",
        "        # Create QAOA instance\n",
        "        qaoa = QAOA(\n",
        "            sampler=Sampler(),\n",
        "            optimizer=optimizer,\n",
        "            reps=reps\n",
        "        )\n",
        "\n",
        "        # Run QAOA\n",
        "        result = qaoa.compute_minimum_eigenvalue(operator=self.qubit_op)\n",
        "\n",
        "        # Get the result bitstring\n",
        "        x = self._sample_most_likely(result.eigenstate)\n",
        "\n",
        "        # Convert to partition\n",
        "        partition = self._get_partition(x)\n",
        "\n",
        "        return {\n",
        "            'partition': partition,\n",
        "            'cost': result.optimal_value,\n",
        "            'bitstring': x,\n",
        "            'success': result.success\n",
        "        }\n",
        "\n",
        "    def _sample_most_likely(self, state_vector):\n",
        "        \"\"\"Returns the most likely bitstring\"\"\"\n",
        "        n = len(state_vector)\n",
        "        k = int(np.log2(n))\n",
        "        max_amplitude = max(np.abs(state_vector))\n",
        "        max_i = np.where(np.abs(state_vector) == max_amplitude)[0][0]\n",
        "        return bin(max_i)[2:].zfill(k)\n",
        "\n",
        "    def _get_partition(self, bitstring):\n",
        "        \"\"\"Convert bitstring to two partitions\"\"\"\n",
        "        partition_a = []\n",
        "        partition_b = []\n",
        "        for i, bit in enumerate(bitstring):\n",
        "            if bit == '0':\n",
        "                partition_a.append(self.numbers[i])\n",
        "            else:\n",
        "                partition_b.append(self.numbers[i])\n",
        "        return partition_a, partition_b\n",
        "\n",
        "# Example usage\n",
        "if __name__ == \"__main__\":\n",
        "    # Example numbers to partition\n",
        "    numbers = [3, 1, 4, 2, 2]\n",
        "\n",
        "    # Create and solve\n",
        "    np_qaoa = NumberPartitionQAOA(numbers)\n",
        "    result = np_qaoa.solve(reps=2)\n",
        "\n",
        "    # Print results\n",
        "    print(\"Numbers to partition:\", numbers)\n",
        "    print(\"\\nPartition found:\")\n",
        "    print(\"  Subset A:\", result['partition'][0])\n",
        "    print(\"  Subset B:\", result['partition'][1])\n",
        "    print(\"  Sum A:\", sum(result['partition'][0]))\n",
        "    print(\"  Sum B:\", sum(result['partition'][1]))\n",
        "    print(\"  Difference:\", abs(sum(result['partition'][0]) - sum(result['partition'][1])))\n",
        "    print(\"\\nOptimal cost:\", result['cost'])\n",
        "    print(\"Success:\", result['success'])\n"
      ],
      "metadata": {
        "id": "Suxm9iqzxo63",
        "colab": {
          "base_uri": "https://localhost:8080/",
          "height": 382
        },
        "outputId": "873a4fdb-6cf9-4dba-c45a-065e2fd629ee"
      },
      "execution_count": null,
      "outputs": [
        {
          "output_type": "error",
          "ename": "TypeError",
          "evalue": "object of type 'float' has no len()",
          "traceback": [
            "\u001b[0;31m---------------------------------------------------------------------------\u001b[0m",
            "\u001b[0;31mTypeError\u001b[0m                                 Traceback (most recent call last)",
            "\u001b[0;32m<ipython-input-95-d578ab66fae6>\u001b[0m in \u001b[0;36m<cell line: 0>\u001b[0;34m()\u001b[0m\n\u001b[1;32m     86\u001b[0m \u001b[0;34m\u001b[0m\u001b[0m\n\u001b[1;32m     87\u001b[0m     \u001b[0;31m# Create and solve\u001b[0m\u001b[0;34m\u001b[0m\u001b[0;34m\u001b[0m\u001b[0m\n\u001b[0;32m---> 88\u001b[0;31m     \u001b[0mnp_qaoa\u001b[0m \u001b[0;34m=\u001b[0m \u001b[0mNumberPartitionQAOA\u001b[0m\u001b[0;34m(\u001b[0m\u001b[0mnumbers\u001b[0m\u001b[0;34m)\u001b[0m\u001b[0;34m\u001b[0m\u001b[0;34m\u001b[0m\u001b[0m\n\u001b[0m\u001b[1;32m     89\u001b[0m     \u001b[0mresult\u001b[0m \u001b[0;34m=\u001b[0m \u001b[0mnp_qaoa\u001b[0m\u001b[0;34m.\u001b[0m\u001b[0msolve\u001b[0m\u001b[0;34m(\u001b[0m\u001b[0mreps\u001b[0m\u001b[0;34m=\u001b[0m\u001b[0;36m2\u001b[0m\u001b[0;34m)\u001b[0m\u001b[0;34m\u001b[0m\u001b[0;34m\u001b[0m\u001b[0m\n\u001b[1;32m     90\u001b[0m \u001b[0;34m\u001b[0m\u001b[0m\n",
            "\u001b[0;32m<ipython-input-95-d578ab66fae6>\u001b[0m in \u001b[0;36m__init__\u001b[0;34m(self, numbers)\u001b[0m\n\u001b[1;32m     11\u001b[0m         \u001b[0mself\u001b[0m\u001b[0;34m.\u001b[0m\u001b[0mnumbers\u001b[0m \u001b[0;34m=\u001b[0m \u001b[0mnumbers\u001b[0m\u001b[0;34m\u001b[0m\u001b[0;34m\u001b[0m\u001b[0m\n\u001b[1;32m     12\u001b[0m         \u001b[0mself\u001b[0m\u001b[0;34m.\u001b[0m\u001b[0mn_qubits\u001b[0m \u001b[0;34m=\u001b[0m \u001b[0mlen\u001b[0m\u001b[0;34m(\u001b[0m\u001b[0mnumbers\u001b[0m\u001b[0;34m)\u001b[0m\u001b[0;34m\u001b[0m\u001b[0;34m\u001b[0m\u001b[0m\n\u001b[0;32m---> 13\u001b[0;31m         \u001b[0mself\u001b[0m\u001b[0;34m.\u001b[0m\u001b[0mqubit_op\u001b[0m \u001b[0;34m=\u001b[0m \u001b[0mself\u001b[0m\u001b[0;34m.\u001b[0m\u001b[0m_create_cost_operator\u001b[0m\u001b[0;34m(\u001b[0m\u001b[0;34m)\u001b[0m\u001b[0;34m\u001b[0m\u001b[0;34m\u001b[0m\u001b[0m\n\u001b[0m\u001b[1;32m     14\u001b[0m \u001b[0;34m\u001b[0m\u001b[0m\n\u001b[1;32m     15\u001b[0m     \u001b[0;32mdef\u001b[0m \u001b[0m_create_cost_operator\u001b[0m\u001b[0;34m(\u001b[0m\u001b[0mself\u001b[0m\u001b[0;34m)\u001b[0m\u001b[0;34m:\u001b[0m\u001b[0;34m\u001b[0m\u001b[0;34m\u001b[0m\u001b[0m\n",
            "\u001b[0;32m<ipython-input-95-d578ab66fae6>\u001b[0m in \u001b[0;36m_create_cost_operator\u001b[0;34m(self)\u001b[0m\n\u001b[1;32m     31\u001b[0m         \u001b[0;31m# Convert to SparsePauliOp\u001b[0m\u001b[0;34m\u001b[0m\u001b[0;34m\u001b[0m\u001b[0m\n\u001b[1;32m     32\u001b[0m         \u001b[0mop_list\u001b[0m \u001b[0;34m=\u001b[0m \u001b[0;34m[\u001b[0m\u001b[0;34m(\u001b[0m\u001b[0mcoeff\u001b[0m\u001b[0;34m,\u001b[0m \u001b[0mPauli\u001b[0m\u001b[0;34m(\u001b[0m\u001b[0mpauli\u001b[0m\u001b[0;34m)\u001b[0m\u001b[0;34m)\u001b[0m \u001b[0;32mfor\u001b[0m \u001b[0mcoeff\u001b[0m\u001b[0;34m,\u001b[0m \u001b[0mpauli\u001b[0m \u001b[0;32min\u001b[0m \u001b[0mpauli_list\u001b[0m\u001b[0;34m]\u001b[0m\u001b[0;34m\u001b[0m\u001b[0;34m\u001b[0m\u001b[0m\n\u001b[0;32m---> 33\u001b[0;31m         \u001b[0;32mreturn\u001b[0m \u001b[0mSparsePauliOp\u001b[0m\u001b[0;34m.\u001b[0m\u001b[0mfrom_list\u001b[0m\u001b[0;34m(\u001b[0m\u001b[0mop_list\u001b[0m\u001b[0;34m)\u001b[0m\u001b[0;34m\u001b[0m\u001b[0;34m\u001b[0m\u001b[0m\n\u001b[0m\u001b[1;32m     34\u001b[0m \u001b[0;34m\u001b[0m\u001b[0m\n\u001b[1;32m     35\u001b[0m     \u001b[0;32mdef\u001b[0m \u001b[0msolve\u001b[0m\u001b[0;34m(\u001b[0m\u001b[0mself\u001b[0m\u001b[0;34m,\u001b[0m \u001b[0mreps\u001b[0m\u001b[0;34m=\u001b[0m\u001b[0;36m1\u001b[0m\u001b[0;34m,\u001b[0m \u001b[0moptimizer_maxiter\u001b[0m\u001b[0;34m=\u001b[0m\u001b[0;36m100\u001b[0m\u001b[0;34m)\u001b[0m\u001b[0;34m:\u001b[0m\u001b[0;34m\u001b[0m\u001b[0;34m\u001b[0m\u001b[0m\n",
            "\u001b[0;32m/usr/local/lib/python3.11/dist-packages/qiskit/quantum_info/operators/symplectic/sparse_pauli_op.py\u001b[0m in \u001b[0;36mfrom_list\u001b[0;34m(obj, dtype, num_qubits)\u001b[0m\n\u001b[1;32m    834\u001b[0m                 )\n\u001b[1;32m    835\u001b[0m         \u001b[0;32mif\u001b[0m \u001b[0mnum_qubits\u001b[0m \u001b[0;32mis\u001b[0m \u001b[0;32mNone\u001b[0m\u001b[0;34m:\u001b[0m\u001b[0;34m\u001b[0m\u001b[0;34m\u001b[0m\u001b[0m\n\u001b[0;32m--> 836\u001b[0;31m             \u001b[0mnum_qubits\u001b[0m \u001b[0;34m=\u001b[0m \u001b[0mlen\u001b[0m\u001b[0;34m(\u001b[0m\u001b[0mobj\u001b[0m\u001b[0;34m[\u001b[0m\u001b[0;36m0\u001b[0m\u001b[0;34m]\u001b[0m\u001b[0;34m[\u001b[0m\u001b[0;36m0\u001b[0m\u001b[0;34m]\u001b[0m\u001b[0;34m)\u001b[0m\u001b[0;34m\u001b[0m\u001b[0;34m\u001b[0m\u001b[0m\n\u001b[0m\u001b[1;32m    837\u001b[0m         \u001b[0;32mif\u001b[0m \u001b[0msize\u001b[0m \u001b[0;34m==\u001b[0m \u001b[0;36m0\u001b[0m\u001b[0;34m:\u001b[0m\u001b[0;34m\u001b[0m\u001b[0;34m\u001b[0m\u001b[0m\n\u001b[1;32m    838\u001b[0m             \u001b[0mobj\u001b[0m \u001b[0;34m=\u001b[0m \u001b[0;34m[\u001b[0m\u001b[0;34m(\u001b[0m\u001b[0;34m\"I\"\u001b[0m \u001b[0;34m*\u001b[0m \u001b[0mnum_qubits\u001b[0m\u001b[0;34m,\u001b[0m \u001b[0;36m0\u001b[0m\u001b[0;34m)\u001b[0m\u001b[0;34m]\u001b[0m\u001b[0;34m\u001b[0m\u001b[0;34m\u001b[0m\u001b[0m\n",
            "\u001b[0;31mTypeError\u001b[0m: object of type 'float' has no len()"
          ]
        }
      ]
    }
  ]
}