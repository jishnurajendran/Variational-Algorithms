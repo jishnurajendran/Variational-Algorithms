{
  "cells": [
    {
      "cell_type": "markdown",
      "metadata": {},
      "source": [
        "# Variational Quantum Eigensolver (VQE) for Number Partitioning Problem\n",
        "\n",
        "The Variational Quantum Eigensolver (VQE) is a hybrid quantum-classical algorithm designed to find the ground state energy of a Hamiltonian, making it suitable for optimization problems. Here I will  explain how the VQE algorithm can be implemented in Cirq to solve the number partitioning problem, where a set of numbers is divided into two subsets such that the difference between their sums is minimized.\n",
        "\n",
        "## Problem Description\n",
        "\n",
        "### Number Partitioning\n",
        "Given a set of numbers $S = \\{a_1, a_2, ..., a_n\\}$, the goal is to divide $S$ into two subsets $A$ and $B$ such that:\n",
        "\n",
        "$$\n",
        "\\text{Cost Function: } C = (\\sum_{i \\in A} a_i - \\sum_{i \\in B} a_i)^2\n",
        "$$\n",
        "\n",
        "This can be reformulated as:\n",
        "$$\n",
        "C = (\\sum_{i=1}^{n} a_i s_i)^2,\n",
        "$$\n",
        "where $s_i = 1$ if $a_i \\in A$ and $s_i = -1$ if $a_i \\in B$."
      ]
    },
    {
      "cell_type": "markdown",
      "metadata": {},
      "source": [
        "## Variational Quantum Eigensolver (VQE) Algorithm Overview\n",
        "\n",
        "VQE combines quantum computing and classical optimization to iteratively minimize the expectation value of a Hamiltonian. The key steps are:\n",
        "\n",
        "1. **Hamiltonian Formulation**: Define the problem as a Hamiltonian where the ground state corresponds to the optimal solution.\n",
        "2. **Ansatz Design**: Construct a parameterized quantum circuit (ansatz) that represents possible solutions.\n",
        "3. **Quantum Measurement**: Measure the expectation value of the Hamiltonian using the quantum circuit.\n",
        "4. **Classical Optimization**: Adjust parameters using a classical optimizer to minimize the expectation value.\n",
        "5. Repeat until convergence to approximate the ground state energy.\n",
        "\n",
        "## How VQE Differs from QAOA\n",
        "\n",
        "While both VQE and QAOA are variational quantum algorithms, they have some key differences:\n",
        "\n",
        "1. VQE is more general and aims to find the ground state of any Hamiltonian, while QAOA is specifically designed for **combinatorial optimization** problems.\n",
        "\n",
        "2. VQE allows for more flexible ansatz designs (like the hardware-efficient ansatz), whereas QAOA has a more rigid alternating-operator structure with cost and mixer Hamiltonians[5].\n",
        "\n",
        "3. VQE typically has more parameters to optimize, especially with deep ansatzes, compared to QAOA which has 2p parameters for p layers."
      ]
    },
    {
      "cell_type": "code",
      "execution_count": 1,
      "metadata": {
        "id": "uSkAR3kymgSA"
      },
      "outputs": [],
      "source": [
        "# Import necessary libraries\n",
        "try:\n",
        "    import cirq\n",
        "except ImportError:\n",
        "    print(\"installing cirq...\")\n",
        "    !pip install --quiet cirq\n",
        "    print(\"installed cirq.\")\n",
        "import cirq\n",
        "import numpy as np\n",
        "from scipy.optimize import minimize\n"
      ]
    },
    {
      "cell_type": "code",
      "execution_count": 2,
      "metadata": {
        "colab": {
          "base_uri": "https://localhost:8080/"
        },
        "id": "6CH78MAHmi4a",
        "outputId": "b1e0a6ef-4939-426f-844b-ae678c31bbad"
      },
      "outputs": [
        {
          "name": "stdout",
          "output_type": "stream",
          "text": [
            "Numbers to partition: [37 27 97 39 -1 47]\n"
          ]
        }
      ],
      "source": [
        "# Generate random numbers to partition\n",
        "numbers = np.random.randint(-10, 100, 6)\n",
        "n_qubits = len(numbers)\n",
        "print(\"Numbers to partition:\", numbers)\n",
        "\n",
        "# Create qubits\n",
        "qubits = [cirq.NamedQubit(f'q{i}') for i in range(n_qubits)]"
      ]
    },
    {
      "cell_type": "code",
      "execution_count": 5,
      "metadata": {
        "id": "M9wY2gs2leFM"
      },
      "outputs": [],
      "source": [
        "# Define a parameterized circuit (ansatz) for VQE\n",
        "def create_ansatz(params, qubits):\n",
        "    \"\"\"\n",
        "    Create a parameterized quantum circuit for VQE.\n",
        "    This is a hardware-efficient ansatz with layers of single qubit rotations\n",
        "    and two-qubit entangling operations.\n",
        "    \"\"\"\n",
        "    circuit = cirq.Circuit()\n",
        "\n",
        "    # Initial state - Start with all qubits in superposition\n",
        "    circuit.append(cirq.H.on_each(qubits))\n",
        "\n",
        "    # Number of layers in the ansatz\n",
        "    n_layers = len(params) // (n_qubits + n_qubits*(n_qubits-1)//2)\n",
        "\n",
        "    param_idx = 0\n",
        "    for _ in range(n_layers):\n",
        "        # Single qubit rotations (X-rotations)\n",
        "        for i in range(n_qubits):\n",
        "            circuit.append(cirq.rx(params[param_idx])(qubits[i]))\n",
        "            param_idx += 1\n",
        "\n",
        "        # Two-qubit entangling operations (ZZ interactions)\n",
        "        for i in range(n_qubits):\n",
        "            for j in range(i+1, n_qubits):\n",
        "                if param_idx < len(params):  # Check to avoid index out of range\n",
        "                    circuit.append(cirq.ZZPowGate(exponent=params[param_idx]/np.pi)(qubits[i], qubits[j]))\n",
        "                    param_idx += 1\n",
        "\n",
        "    return circuit\n",
        "\n",
        "# Set up the simulator\n",
        "simulator = cirq.Simulator()\n",
        "\n",
        "# Function to calculate the expectation value of our Hamiltonian\n",
        "def expectation_value(params):\n",
        "    \"\"\"\n",
        "    Calculate the expectation value of the number partitioning Hamiltonian\n",
        "    for the state prepared by the parameterized circuit.\n",
        "    \"\"\"\n",
        "    # Create the ansatz circuit\n",
        "    circuit = create_ansatz(params, qubits)\n",
        "\n",
        "    # Simulate the circuit to get the state vector\n",
        "    result = simulator.simulate(circuit)\n",
        "    state_vector = result.final_state_vector\n",
        "\n",
        "    # Calculate the expectation value of the Hamiltonian\n",
        "    # For number partitioning, the Hamiltonian is (sum(a_i * Z_i))^2\n",
        "    # which expands to sum(a_i^2) + sum_{i<j} 2*a_i*a_j*Z_i*Z_j\n",
        "\n",
        "    energy = sum(a*a for a in numbers)  # Constant term\n",
        "\n",
        "    # Calculate the contribution from each ZZ term\n",
        "    for i in range(n_qubits):\n",
        "        for j in range(i+1, n_qubits):\n",
        "            weight = 2 * numbers[i] * numbers[j]\n",
        "\n",
        "            # Create the Z_i * Z_j operator\n",
        "            zz_op = cirq.Z(qubits[i]) * cirq.Z(qubits[j])\n",
        "\n",
        "            # Calculate its expectation value\n",
        "            zz_val = zz_op.expectation_from_state_vector(\n",
        "                        state_vector,\n",
        "                        qubit_map={q: i for i, q in enumerate(qubits)}\n",
        "                    ).real\n",
        "\n",
        "            energy += weight * zz_val\n",
        "\n",
        "    return energy\n",
        "\n"
      ]
    },
    {
      "cell_type": "code",
      "execution_count": 6,
      "metadata": {
        "colab": {
          "base_uri": "https://localhost:8080/"
        },
        "id": "V1drmKwvmym8",
        "outputId": "0770b2d9-b489-4466-f617-7e82a60305d0"
      },
      "outputs": [
        {
          "name": "stdout",
          "output_type": "stream",
          "text": [
            "Starting VQE optimization...\n",
            "Optimization complete!\n",
            "Final energy: 5162.241280093789\n",
            "+-----------------------+-------------------+--------------------+------------------+-------------+\n",
            "| Partition             | First Partition   | Second Partition   |   Sum Difference |   Frequency |\n",
            "+=======================+===================+====================+==================+=============+\n",
            "| (-1, 1, 1, -1, 1, -1) | [27, 97, -1]      | [37, 39, 47]       |                0 |           4 |\n",
            "+-----------------------+-------------------+--------------------+------------------+-------------+\n",
            "| (1, -1, -1, 1, -1, 1) | [37, 39, 47]      | [27, 97, -1]       |                0 |           2 |\n",
            "+-----------------------+-------------------+--------------------+------------------+-------------+\n"
          ]
        }
      ],
      "source": [
        "# Set the number of layers and initialize parameters\n",
        "n_layers = 2\n",
        "total_params = n_layers * (n_qubits + n_qubits*(n_qubits-1)//2)\n",
        "initial_params = np.random.uniform(0, 2*np.pi, total_params)\n",
        "\n",
        "# Run the VQE optimization\n",
        "print(\"Starting VQE optimization...\")\n",
        "result = minimize(\n",
        "    expectation_value,\n",
        "    initial_params,\n",
        "    method='COBYLA',  # Classical optimizer for VQE\n",
        "    options={'maxiter': 200}\n",
        ")\n",
        "optimal_params = result.x\n",
        "print(\"Optimization complete!\")\n",
        "print(\"Final energy:\", result.fun)\n",
        "\n",
        "# Run the optimized circuit and measure\n",
        "optimized_circuit = create_ansatz(optimal_params, qubits)\n",
        "optimized_circuit.append(cirq.measure(*qubits, key='result'))\n",
        "final_result = simulator.run(optimized_circuit, repetitions=1000)\n",
        "measurements = final_result.measurements['result']\n",
        "\n",
        "# Analyze the results\n",
        "def bitstring_to_partition(bits):\n",
        "    \"\"\"Convert a bitstring to a partition (1 for subset A, -1 for subset B).\"\"\"\n",
        "    return [1 if bit == 0 else -1 for bit in bits]\n",
        "\n",
        "def compute_cost(spin_assignment):\n",
        "    \"\"\"Compute the cost (squared sum difference) of a partition.\"\"\"\n",
        "    S = sum(a * spin for a, spin in zip(numbers, spin_assignment))\n",
        "    return S * S\n",
        "\n",
        "# Count the occurrences of each partition and calculate their costs\n",
        "partition_counts = {}\n",
        "for bits in measurements:\n",
        "    partition = tuple(bitstring_to_partition(bits))\n",
        "    cost = compute_cost(partition)\n",
        "    if partition in partition_counts:\n",
        "        partition_counts[partition]['count'] += 1\n",
        "    else:\n",
        "        partition_counts[partition] = {'cost': cost, 'count': 1}\n",
        "\n",
        "# Find the minimum cost partitioning\n",
        "min_cost = min(info['cost'] for info in partition_counts.values())\n",
        "optimal_partitions = [p for p, info in partition_counts.items() if info['cost'] == min_cost]\n",
        "\n",
        "# Display the results\n",
        "try:\n",
        "    from tabulate import tabulate\n",
        "except ImportError:\n",
        "    !pip install tabulate\n",
        "    from tabulate import tabulate\n",
        "\n",
        "table_data = []\n",
        "for partition in optimal_partitions:\n",
        "    sub_a = [numbers[i] for i in range(n_qubits) if partition[i] == 1]\n",
        "    sub_b = [numbers[i] for i in range(n_qubits) if partition[i] == -1]\n",
        "    table_data.append([partition, sub_a, sub_b, sum(sub_a) - sum(sub_b), partition_counts[partition]['count']])\n",
        "\n",
        "headers = [\"Partition\", \"First Partition\", \"Second Partition\", \"Sum Difference\", \"Frequency\"]\n",
        "print(tabulate(table_data, headers=headers, tablefmt=\"grid\"))\n"
      ]
    },
    {
      "cell_type": "markdown",
      "metadata": {},
      "source": [
        "## Improvements\n",
        "\n",
        "*   **Better Ansatz**: Explore different ansatz architectures.\n",
        "*   **More Layers**: Increase the number of layers in the ansatz to improve accuracy.\n",
        "*   **Adaptive VQE**: Implement an adaptive VQE approach where the ansatz is built iteratively based on the problem.\n",
        "*   **Parameter Initialization:** Implement a better way to do parameter initialization.\n",
        "*   Better way to handle potential qubit error with better error mitigation techniques. "
      ]
    },
    {
      "cell_type": "markdown",
      "metadata": {},
      "source": []
    }
  ],
  "metadata": {
    "colab": {
      "provenance": []
    },
    "kernelspec": {
      "display_name": "Python 3",
      "name": "python3"
    },
    "language_info": {
      "name": "python"
    }
  },
  "nbformat": 4,
  "nbformat_minor": 0
}
